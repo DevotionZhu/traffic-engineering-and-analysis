{
 "cells": [
  {
   "cell_type": "code",
   "execution_count": 2,
   "metadata": {},
   "outputs": [],
   "source": [
    "# _*_coding:utf-8 _*_\n",
    "# @Time　　:2020/2/29/21:32\n",
    "# @Author　 : Simon Xuesong Zhou at ASU xzhou74@asu.edu \n",
    "#@ File　　  :generic label correcting algorithm.py\n",
    "#@Software  :PyCharm\n",
    "\"\"\"import package\"\"\"\n",
    "import pandas as pd\n",
    "import numpy as np\n",
    "import copy"
   ]
  },
  {
   "cell_type": "code",
   "execution_count": 3,
   "metadata": {},
   "outputs": [],
   "source": [
    "\"\"\"define global variables\"\"\"\n",
    "g_node_list=[] #set of node\n",
    "g_node_zone={} #set of node type\n",
    "g_link_list=[] #set of arc\n",
    "g_shortest_path=[] #set of shortest path\n",
    "g_origin=None   #source node of network\n",
    "g_number_of_nodes=0#node number\n",
    "node_predecessor=[]#set of predecessor node\n",
    "node_label_cost=[]#set of distance label\n",
    "Max_label_cost=99999#initial distance label\n"
   ]
  },
  {
   "cell_type": "code",
   "execution_count": 9,
   "metadata": {},
   "outputs": [
    {
     "name": "stdout",
     "output_type": "stream",
     "text": [
      "[1, 2, 3, 4, 5, 6, 1, 2, 3, 4, 5, 6, 1, 2, 3, 4, 5, 6, 1, 2, 3, 4, 5, 6, 1, 2, 3, 4, 5, 6]\n",
      "30\n"
     ]
    }
   ],
   "source": [
    "\"\"\"import network data file and initialize corresponding variables\"\"\"\n",
    "#read data of nodes\n",
    "df_node=pd.read_csv('node.csv')\n",
    "df_node=df_node.iloc[:,:].values\n",
    "for i in range(len(df_node)):\n",
    "    g_node_list.append(df_node[i,0])\n",
    "    g_node_zone[df_node[i,0]]=df_node[i,-1]\n",
    "    g_number_of_nodes+=1\n",
    "    if df_node[i,3]==1:\n",
    "        g_origin=df_node[i,0]\n",
    "Distance=np.ones((g_number_of_nodes,g_number_of_nodes))*Max_label_cost #distance matrix\n",
    "node_predecessor=[-1]*g_number_of_nodes\n",
    "node_label_cost=[Max_label_cost]*g_number_of_nodes\n",
    "node_predecessor[g_origin-1]=0\n",
    "node_label_cost[g_origin-1] = 0\n",
    "\n",
    "#check number of nodes\n",
    "len(df_node)\n",
    "print (g_node_list)\n",
    "print (g_number_of_nodes)\n"
   ]
  },
  {
   "cell_type": "code",
   "execution_count": 6,
   "metadata": {},
   "outputs": [
    {
     "data": {
      "text/plain": [
       "[(1, 2), (1, 3), (2, 3), (2, 4), (3, 4), (3, 5), (4, 6), (5, 4), (5, 6)]"
      ]
     },
     "execution_count": 6,
     "metadata": {},
     "output_type": "execute_result"
    }
   ],
   "source": [
    "\n",
    "#read data of arcs\n",
    "df_link=pd.read_csv('link.csv')\n",
    "df_link=df_link.iloc[:,:].values\n",
    "for i in range(len(df_link)):\n",
    "    g_link_list.append((df_link[i,1],df_link[i,2]))\n",
    "    Distance[df_link[i,1]-1,df_link[i,2]-1]=df_link[i,3]\n",
    "    \n",
    "#check number of links\n",
    "g_link_list\n"
   ]
  },
  {
   "cell_type": "code",
   "execution_count": 11,
   "metadata": {},
   "outputs": [],
   "source": [
    "\"\"\"finding optimal solution: scan arc and check its optimality condition\"\"\"\n",
    "while True:\n",
    "    v=0 #number of arcs violating the optimality conditons\n",
    "    for head,tail in g_link_list:\n",
    "        if node_label_cost[tail-1]>node_label_cost[head-1]+Distance[head-1,tail-1]:\n",
    "            node_label_cost[tail-1]=node_label_cost[head-1]+Distance[head-1,tail-1]\n",
    "            node_predecessor[tail-1]=head\n",
    "            v=v+1\n",
    "            print (v)\n",
    "            print (node_label_cost)\n",
    "            print (node_predecessor)\n",
    "    if v==0:\n",
    "        break"
   ]
  },
  {
   "cell_type": "code",
   "execution_count": 1,
   "metadata": {},
   "outputs": [
    {
     "name": "stdout",
     "output_type": "stream",
     "text": [
      "from 1 to 2 the path is 1;2，length is 6.0\n",
      "from 1 to 3 the path is 1;3，length is 4.0\n",
      "from 1 to 4 the path is 1;3;4，length is 5.0\n",
      "from 1 to 5 the path is 1;3;5，length is 6.0\n",
      "from 1 to 6 the path is 1;3;5;6，length is 9.0\n"
     ]
    }
   ],
   "source": [
    "\n",
    "\n",
    "\n",
    "\"\"\"generate shortest paths according to the predecessor node\"\"\"\n",
    "agent_id=1\n",
    "o_zone_id=g_node_zone[g_origin]\n",
    "for destination in g_node_list:\n",
    "    if g_origin!=destination:\n",
    "        d_zone_id=g_node_zone[destination]\n",
    "        if node_label_cost[destination-1]==Max_label_cost:\n",
    "            path=\" \"\n",
    "            g_shortest_path.append([agent_id,o_zone_id,d_zone_id,path,node_label_cost[destination-1]])\n",
    "        else:\n",
    "            to_node=copy.copy(destination)\n",
    "            path=\"%s\"%to_node\n",
    "            while node_predecessor[to_node-1]!=g_origin:\n",
    "                path=\"%s;\"%node_predecessor[to_node-1]+path\n",
    "                g=node_predecessor[to_node-1]\n",
    "                to_node=g\n",
    "            path=\"%s;\"%g_origin+path\n",
    "            g_shortest_path.append([agent_id,o_zone_id,d_zone_id, path, node_label_cost[destination - 1]])\n",
    "            print('from {} to {} the path is {}，length is {}'\n",
    "                      .format(g_origin,destination,path,node_label_cost[destination-1]))\n",
    "        agent_id+=1\n"
   ]
  },
  {
   "cell_type": "code",
   "execution_count": null,
   "metadata": {},
   "outputs": [],
   "source": [
    "\"\"\"output result into csv file\"\"\"\n",
    "#transform data into DataFrame\n",
    "g_shortest_path=np.array(g_shortest_path)\n",
    "col=['agent_id','o_zone_id','d_zone_id','node_sequence','distance']\n",
    "file_data = pd.DataFrame(g_shortest_path, index=range(len(g_shortest_path)),columns=col)\n",
    "file_data.to_csv('agent.csv',index=False)"
   ]
  },
  {
   "cell_type": "code",
   "execution_count": null,
   "metadata": {},
   "outputs": [],
   "source": []
  }
 ],
 "metadata": {
  "kernelspec": {
   "display_name": "Python 3",
   "language": "python",
   "name": "python3"
  },
  "language_info": {
   "codemirror_mode": {
    "name": "ipython",
    "version": 3
   },
   "file_extension": ".py",
   "mimetype": "text/x-python",
   "name": "python",
   "nbconvert_exporter": "python",
   "pygments_lexer": "ipython3",
   "version": "3.7.6"
  }
 },
 "nbformat": 4,
 "nbformat_minor": 4
}
